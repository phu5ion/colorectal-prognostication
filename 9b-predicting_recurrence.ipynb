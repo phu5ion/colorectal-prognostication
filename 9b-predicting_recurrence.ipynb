{
 "cells": [
  {
   "cell_type": "markdown",
   "metadata": {},
   "source": [
    "This notebook is the 2nd of a notebook series for Healthcom 2020. It describes our methods for binary prediction of colorectal cancer recurrence using synthetic datasets.  \n",
    "We include a description of the synthetic datasets, as well as code for our models."
   ]
  },
  {
   "cell_type": "code",
   "execution_count": 1,
   "metadata": {},
   "outputs": [
    {
     "name": "stderr",
     "output_type": "stream",
     "text": [
      "/home/dlho/Software/miniconda3/envs/ml/lib/python3.7/site-packages/statsmodels/tools/_testing.py:19: FutureWarning: pandas.util.testing is deprecated. Use the functions in the public API at pandas.testing instead.\n",
      "  import pandas.util.testing as tm\n"
     ]
    }
   ],
   "source": [
    "import numpy as np\n",
    "import pandas as pd\n",
    "from sklearn.preprocessing import OneHotEncoder, MinMaxScaler, LabelEncoder\n",
    "import matplotlib.pyplot as plt\n",
    "from tsfresh import extract_relevant_features"
   ]
  },
  {
   "cell_type": "markdown",
   "metadata": {},
   "source": [
    "# Dataset description and exploration"
   ]
  },
  {
   "cell_type": "code",
   "execution_count": 2,
   "metadata": {},
   "outputs": [],
   "source": [
    "tabulardf = pd.read_csv(\"synthetic_structured.csv\")\n",
    "tsdf = pd.read_csv(\"synthetic_ts.csv\")"
   ]
  },
  {
   "cell_type": "markdown",
   "metadata": {},
   "source": [
    "We explore the synthetic datasets. The tabular dataset consists of:  \n",
    "1 quantitative variable (age_at_diagnosis)  \n",
    "10 categorical features  \n",
    "the outcome feature (relapse, as well as relapse_date)"
   ]
  },
  {
   "cell_type": "markdown",
   "metadata": {},
   "source": [
    "### Tabular dataset exploration"
   ]
  },
  {
   "cell_type": "code",
   "execution_count": 3,
   "metadata": {},
   "outputs": [
    {
     "data": {
      "text/html": [
       "<div>\n",
       "<style scoped>\n",
       "    .dataframe tbody tr th:only-of-type {\n",
       "        vertical-align: middle;\n",
       "    }\n",
       "\n",
       "    .dataframe tbody tr th {\n",
       "        vertical-align: top;\n",
       "    }\n",
       "\n",
       "    .dataframe thead th {\n",
       "        text-align: right;\n",
       "    }\n",
       "</style>\n",
       "<table border=\"1\" class=\"dataframe\">\n",
       "  <thead>\n",
       "    <tr style=\"text-align: right;\">\n",
       "      <th></th>\n",
       "      <th>patient_id</th>\n",
       "      <th>age_at_diagnosis</th>\n",
       "      <th>gender</th>\n",
       "      <th>race</th>\n",
       "      <th>tumour_site</th>\n",
       "      <th>t</th>\n",
       "      <th>n</th>\n",
       "      <th>msi_status</th>\n",
       "      <th>kras</th>\n",
       "      <th>braf</th>\n",
       "      <th>main_surgery</th>\n",
       "      <th>chemotherapy</th>\n",
       "      <th>relapse</th>\n",
       "      <th>relapse_date</th>\n",
       "    </tr>\n",
       "  </thead>\n",
       "  <tbody>\n",
       "    <tr>\n",
       "      <th>0</th>\n",
       "      <td>1</td>\n",
       "      <td>61.118370</td>\n",
       "      <td>female</td>\n",
       "      <td>chinese</td>\n",
       "      <td>sigmoid</td>\n",
       "      <td>t3</td>\n",
       "      <td>n2</td>\n",
       "      <td>mss</td>\n",
       "      <td>positive</td>\n",
       "      <td>negative</td>\n",
       "      <td>colectomy</td>\n",
       "      <td>folfox</td>\n",
       "      <td>yes</td>\n",
       "      <td>2022-01-01</td>\n",
       "    </tr>\n",
       "    <tr>\n",
       "      <th>1</th>\n",
       "      <td>2</td>\n",
       "      <td>62.334809</td>\n",
       "      <td>female</td>\n",
       "      <td>chinese</td>\n",
       "      <td>rectum</td>\n",
       "      <td>t2</td>\n",
       "      <td>n1</td>\n",
       "      <td>mss</td>\n",
       "      <td>positive</td>\n",
       "      <td>positive</td>\n",
       "      <td>colectomy</td>\n",
       "      <td>xeloda</td>\n",
       "      <td>no</td>\n",
       "      <td>NaN</td>\n",
       "    </tr>\n",
       "    <tr>\n",
       "      <th>2</th>\n",
       "      <td>3</td>\n",
       "      <td>60.498836</td>\n",
       "      <td>male</td>\n",
       "      <td>malay</td>\n",
       "      <td>sigmoid</td>\n",
       "      <td>t3</td>\n",
       "      <td>n2</td>\n",
       "      <td>mss</td>\n",
       "      <td>positive</td>\n",
       "      <td>negative</td>\n",
       "      <td>others</td>\n",
       "      <td>xelox</td>\n",
       "      <td>no</td>\n",
       "      <td>NaN</td>\n",
       "    </tr>\n",
       "    <tr>\n",
       "      <th>3</th>\n",
       "      <td>4</td>\n",
       "      <td>58.600136</td>\n",
       "      <td>male</td>\n",
       "      <td>chinese</td>\n",
       "      <td>others</td>\n",
       "      <td>t1</td>\n",
       "      <td>n2</td>\n",
       "      <td>mss</td>\n",
       "      <td>negative</td>\n",
       "      <td>positive</td>\n",
       "      <td>laparoscopy</td>\n",
       "      <td>xeloda</td>\n",
       "      <td>no</td>\n",
       "      <td>NaN</td>\n",
       "    </tr>\n",
       "    <tr>\n",
       "      <th>4</th>\n",
       "      <td>5</td>\n",
       "      <td>64.741463</td>\n",
       "      <td>male</td>\n",
       "      <td>chinese</td>\n",
       "      <td>sigmoid</td>\n",
       "      <td>t3</td>\n",
       "      <td>n1</td>\n",
       "      <td>mss</td>\n",
       "      <td>positive</td>\n",
       "      <td>negative</td>\n",
       "      <td>others</td>\n",
       "      <td>xeloda</td>\n",
       "      <td>no</td>\n",
       "      <td>NaN</td>\n",
       "    </tr>\n",
       "  </tbody>\n",
       "</table>\n",
       "</div>"
      ],
      "text/plain": [
       "   patient_id  age_at_diagnosis  gender     race tumour_site   t   n  \\\n",
       "0           1         61.118370  female  chinese     sigmoid  t3  n2   \n",
       "1           2         62.334809  female  chinese      rectum  t2  n1   \n",
       "2           3         60.498836    male    malay     sigmoid  t3  n2   \n",
       "3           4         58.600136    male  chinese      others  t1  n2   \n",
       "4           5         64.741463    male  chinese     sigmoid  t3  n1   \n",
       "\n",
       "  msi_status      kras      braf main_surgery chemotherapy relapse  \\\n",
       "0        mss  positive  negative    colectomy       folfox     yes   \n",
       "1        mss  positive  positive    colectomy       xeloda      no   \n",
       "2        mss  positive  negative       others        xelox      no   \n",
       "3        mss  negative  positive  laparoscopy       xeloda      no   \n",
       "4        mss  positive  negative       others       xeloda      no   \n",
       "\n",
       "  relapse_date  \n",
       "0   2022-01-01  \n",
       "1          NaN  \n",
       "2          NaN  \n",
       "3          NaN  \n",
       "4          NaN  "
      ]
     },
     "execution_count": 3,
     "metadata": {},
     "output_type": "execute_result"
    }
   ],
   "source": [
    "tabulardf.head()"
   ]
  },
  {
   "cell_type": "code",
   "execution_count": 4,
   "metadata": {},
   "outputs": [
    {
     "data": {
      "text/html": [
       "<div>\n",
       "<style scoped>\n",
       "    .dataframe tbody tr th:only-of-type {\n",
       "        vertical-align: middle;\n",
       "    }\n",
       "\n",
       "    .dataframe tbody tr th {\n",
       "        vertical-align: top;\n",
       "    }\n",
       "\n",
       "    .dataframe thead th {\n",
       "        text-align: right;\n",
       "    }\n",
       "</style>\n",
       "<table border=\"1\" class=\"dataframe\">\n",
       "  <thead>\n",
       "    <tr style=\"text-align: right;\">\n",
       "      <th></th>\n",
       "      <th>patient_id</th>\n",
       "      <th>age_at_diagnosis</th>\n",
       "      <th>gender</th>\n",
       "      <th>race</th>\n",
       "      <th>tumour_site</th>\n",
       "      <th>t</th>\n",
       "      <th>n</th>\n",
       "      <th>msi_status</th>\n",
       "      <th>kras</th>\n",
       "      <th>braf</th>\n",
       "      <th>main_surgery</th>\n",
       "      <th>chemotherapy</th>\n",
       "      <th>relapse</th>\n",
       "      <th>relapse_date</th>\n",
       "    </tr>\n",
       "  </thead>\n",
       "  <tbody>\n",
       "    <tr>\n",
       "      <th>count</th>\n",
       "      <td>900.000000</td>\n",
       "      <td>900.000000</td>\n",
       "      <td>900</td>\n",
       "      <td>900</td>\n",
       "      <td>900</td>\n",
       "      <td>900</td>\n",
       "      <td>900</td>\n",
       "      <td>900</td>\n",
       "      <td>900</td>\n",
       "      <td>900</td>\n",
       "      <td>900</td>\n",
       "      <td>900</td>\n",
       "      <td>900</td>\n",
       "      <td>231</td>\n",
       "    </tr>\n",
       "    <tr>\n",
       "      <th>unique</th>\n",
       "      <td>NaN</td>\n",
       "      <td>NaN</td>\n",
       "      <td>2</td>\n",
       "      <td>4</td>\n",
       "      <td>3</td>\n",
       "      <td>3</td>\n",
       "      <td>3</td>\n",
       "      <td>2</td>\n",
       "      <td>2</td>\n",
       "      <td>2</td>\n",
       "      <td>3</td>\n",
       "      <td>4</td>\n",
       "      <td>2</td>\n",
       "      <td>1</td>\n",
       "    </tr>\n",
       "    <tr>\n",
       "      <th>top</th>\n",
       "      <td>NaN</td>\n",
       "      <td>NaN</td>\n",
       "      <td>female</td>\n",
       "      <td>chinese</td>\n",
       "      <td>sigmoid</td>\n",
       "      <td>t3</td>\n",
       "      <td>n2</td>\n",
       "      <td>mss</td>\n",
       "      <td>negative</td>\n",
       "      <td>negative</td>\n",
       "      <td>colectomy</td>\n",
       "      <td>xelox</td>\n",
       "      <td>no</td>\n",
       "      <td>2022-01-01</td>\n",
       "    </tr>\n",
       "    <tr>\n",
       "      <th>freq</th>\n",
       "      <td>NaN</td>\n",
       "      <td>NaN</td>\n",
       "      <td>522</td>\n",
       "      <td>648</td>\n",
       "      <td>368</td>\n",
       "      <td>331</td>\n",
       "      <td>382</td>\n",
       "      <td>657</td>\n",
       "      <td>469</td>\n",
       "      <td>727</td>\n",
       "      <td>533</td>\n",
       "      <td>283</td>\n",
       "      <td>669</td>\n",
       "      <td>231</td>\n",
       "    </tr>\n",
       "    <tr>\n",
       "      <th>mean</th>\n",
       "      <td>450.500000</td>\n",
       "      <td>60.095931</td>\n",
       "      <td>NaN</td>\n",
       "      <td>NaN</td>\n",
       "      <td>NaN</td>\n",
       "      <td>NaN</td>\n",
       "      <td>NaN</td>\n",
       "      <td>NaN</td>\n",
       "      <td>NaN</td>\n",
       "      <td>NaN</td>\n",
       "      <td>NaN</td>\n",
       "      <td>NaN</td>\n",
       "      <td>NaN</td>\n",
       "      <td>NaN</td>\n",
       "    </tr>\n",
       "    <tr>\n",
       "      <th>std</th>\n",
       "      <td>259.951919</td>\n",
       "      <td>5.025774</td>\n",
       "      <td>NaN</td>\n",
       "      <td>NaN</td>\n",
       "      <td>NaN</td>\n",
       "      <td>NaN</td>\n",
       "      <td>NaN</td>\n",
       "      <td>NaN</td>\n",
       "      <td>NaN</td>\n",
       "      <td>NaN</td>\n",
       "      <td>NaN</td>\n",
       "      <td>NaN</td>\n",
       "      <td>NaN</td>\n",
       "      <td>NaN</td>\n",
       "    </tr>\n",
       "    <tr>\n",
       "      <th>min</th>\n",
       "      <td>1.000000</td>\n",
       "      <td>42.429602</td>\n",
       "      <td>NaN</td>\n",
       "      <td>NaN</td>\n",
       "      <td>NaN</td>\n",
       "      <td>NaN</td>\n",
       "      <td>NaN</td>\n",
       "      <td>NaN</td>\n",
       "      <td>NaN</td>\n",
       "      <td>NaN</td>\n",
       "      <td>NaN</td>\n",
       "      <td>NaN</td>\n",
       "      <td>NaN</td>\n",
       "      <td>NaN</td>\n",
       "    </tr>\n",
       "    <tr>\n",
       "      <th>25%</th>\n",
       "      <td>225.750000</td>\n",
       "      <td>56.679513</td>\n",
       "      <td>NaN</td>\n",
       "      <td>NaN</td>\n",
       "      <td>NaN</td>\n",
       "      <td>NaN</td>\n",
       "      <td>NaN</td>\n",
       "      <td>NaN</td>\n",
       "      <td>NaN</td>\n",
       "      <td>NaN</td>\n",
       "      <td>NaN</td>\n",
       "      <td>NaN</td>\n",
       "      <td>NaN</td>\n",
       "      <td>NaN</td>\n",
       "    </tr>\n",
       "    <tr>\n",
       "      <th>50%</th>\n",
       "      <td>450.500000</td>\n",
       "      <td>60.057776</td>\n",
       "      <td>NaN</td>\n",
       "      <td>NaN</td>\n",
       "      <td>NaN</td>\n",
       "      <td>NaN</td>\n",
       "      <td>NaN</td>\n",
       "      <td>NaN</td>\n",
       "      <td>NaN</td>\n",
       "      <td>NaN</td>\n",
       "      <td>NaN</td>\n",
       "      <td>NaN</td>\n",
       "      <td>NaN</td>\n",
       "      <td>NaN</td>\n",
       "    </tr>\n",
       "    <tr>\n",
       "      <th>75%</th>\n",
       "      <td>675.250000</td>\n",
       "      <td>63.260756</td>\n",
       "      <td>NaN</td>\n",
       "      <td>NaN</td>\n",
       "      <td>NaN</td>\n",
       "      <td>NaN</td>\n",
       "      <td>NaN</td>\n",
       "      <td>NaN</td>\n",
       "      <td>NaN</td>\n",
       "      <td>NaN</td>\n",
       "      <td>NaN</td>\n",
       "      <td>NaN</td>\n",
       "      <td>NaN</td>\n",
       "      <td>NaN</td>\n",
       "    </tr>\n",
       "    <tr>\n",
       "      <th>max</th>\n",
       "      <td>900.000000</td>\n",
       "      <td>75.804423</td>\n",
       "      <td>NaN</td>\n",
       "      <td>NaN</td>\n",
       "      <td>NaN</td>\n",
       "      <td>NaN</td>\n",
       "      <td>NaN</td>\n",
       "      <td>NaN</td>\n",
       "      <td>NaN</td>\n",
       "      <td>NaN</td>\n",
       "      <td>NaN</td>\n",
       "      <td>NaN</td>\n",
       "      <td>NaN</td>\n",
       "      <td>NaN</td>\n",
       "    </tr>\n",
       "  </tbody>\n",
       "</table>\n",
       "</div>"
      ],
      "text/plain": [
       "        patient_id  age_at_diagnosis  gender     race tumour_site    t    n  \\\n",
       "count   900.000000        900.000000     900      900         900  900  900   \n",
       "unique         NaN               NaN       2        4           3    3    3   \n",
       "top            NaN               NaN  female  chinese     sigmoid   t3   n2   \n",
       "freq           NaN               NaN     522      648         368  331  382   \n",
       "mean    450.500000         60.095931     NaN      NaN         NaN  NaN  NaN   \n",
       "std     259.951919          5.025774     NaN      NaN         NaN  NaN  NaN   \n",
       "min       1.000000         42.429602     NaN      NaN         NaN  NaN  NaN   \n",
       "25%     225.750000         56.679513     NaN      NaN         NaN  NaN  NaN   \n",
       "50%     450.500000         60.057776     NaN      NaN         NaN  NaN  NaN   \n",
       "75%     675.250000         63.260756     NaN      NaN         NaN  NaN  NaN   \n",
       "max     900.000000         75.804423     NaN      NaN         NaN  NaN  NaN   \n",
       "\n",
       "       msi_status      kras      braf main_surgery chemotherapy relapse  \\\n",
       "count         900       900       900          900          900     900   \n",
       "unique          2         2         2            3            4       2   \n",
       "top           mss  negative  negative    colectomy        xelox      no   \n",
       "freq          657       469       727          533          283     669   \n",
       "mean          NaN       NaN       NaN          NaN          NaN     NaN   \n",
       "std           NaN       NaN       NaN          NaN          NaN     NaN   \n",
       "min           NaN       NaN       NaN          NaN          NaN     NaN   \n",
       "25%           NaN       NaN       NaN          NaN          NaN     NaN   \n",
       "50%           NaN       NaN       NaN          NaN          NaN     NaN   \n",
       "75%           NaN       NaN       NaN          NaN          NaN     NaN   \n",
       "max           NaN       NaN       NaN          NaN          NaN     NaN   \n",
       "\n",
       "       relapse_date  \n",
       "count           231  \n",
       "unique            1  \n",
       "top      2022-01-01  \n",
       "freq            231  \n",
       "mean            NaN  \n",
       "std             NaN  \n",
       "min             NaN  \n",
       "25%             NaN  \n",
       "50%             NaN  \n",
       "75%             NaN  \n",
       "max             NaN  "
      ]
     },
     "execution_count": 4,
     "metadata": {},
     "output_type": "execute_result"
    }
   ],
   "source": [
    "tabulardf.describe(include='all')"
   ]
  },
  {
   "cell_type": "code",
   "execution_count": 5,
   "metadata": {},
   "outputs": [
    {
     "name": "stdout",
     "output_type": "stream",
     "text": [
      "female    0.58\n",
      "male      0.42\n",
      "Name: gender, dtype: float64\n",
      "chinese    0.720000\n",
      "malay      0.178889\n",
      "indian     0.085556\n",
      "others     0.015556\n",
      "Name: race, dtype: float64\n",
      "sigmoid    0.408889\n",
      "rectum     0.394444\n",
      "others     0.196667\n",
      "Name: tumour_site, dtype: float64\n",
      "t3    0.367778\n",
      "t1    0.320000\n",
      "t2    0.312222\n",
      "Name: t, dtype: float64\n",
      "n2    0.424444\n",
      "n1    0.310000\n",
      "n3    0.265556\n",
      "Name: n, dtype: float64\n",
      "mss    0.73\n",
      "msi    0.27\n",
      "Name: msi_status, dtype: float64\n",
      "negative    0.521111\n",
      "positive    0.478889\n",
      "Name: kras, dtype: float64\n",
      "negative    0.807778\n",
      "positive    0.192222\n",
      "Name: braf, dtype: float64\n",
      "colectomy      0.592222\n",
      "laparoscopy    0.318889\n",
      "others         0.088889\n",
      "Name: main_surgery, dtype: float64\n",
      "xelox     0.314444\n",
      "xeloda    0.274444\n",
      "folfox    0.217778\n",
      "others    0.193333\n",
      "Name: chemotherapy, dtype: float64\n"
     ]
    }
   ],
   "source": [
    "quantitative_features = ['age_at_diagnosis']\n",
    "categorical_features = ['gender', 'race', 'tumour_site', 't', 'n', 'msi_status', 'kras', 'braf', 'main_surgery', 'chemotherapy']\n",
    "for feature in categorical_features:\n",
    "    print(tabulardf[feature].value_counts(normalize=True)) # Relative proportions of each categorical variable"
   ]
  },
  {
   "cell_type": "code",
   "execution_count": 6,
   "metadata": {},
   "outputs": [
    {
     "data": {
      "text/plain": [
       "patient_id            0\n",
       "age_at_diagnosis      0\n",
       "gender                0\n",
       "race                  0\n",
       "tumour_site           0\n",
       "t                     0\n",
       "n                     0\n",
       "msi_status            0\n",
       "kras                  0\n",
       "braf                  0\n",
       "main_surgery          0\n",
       "chemotherapy          0\n",
       "relapse               0\n",
       "relapse_date        669\n",
       "dtype: int64"
      ]
     },
     "execution_count": 6,
     "metadata": {},
     "output_type": "execute_result"
    }
   ],
   "source": [
    "# Checking for null values \n",
    "tabulardf.isnull().sum() # Null values only occur in the relapse date. There is no date if the patient did not relapse. Since it is not our predictor variable, it is ok."
   ]
  },
  {
   "cell_type": "markdown",
   "metadata": {},
   "source": [
    "### Time-series dataset exploration"
   ]
  },
  {
   "cell_type": "code",
   "execution_count": 7,
   "metadata": {},
   "outputs": [
    {
     "data": {
      "text/html": [
       "<div>\n",
       "<style scoped>\n",
       "    .dataframe tbody tr th:only-of-type {\n",
       "        vertical-align: middle;\n",
       "    }\n",
       "\n",
       "    .dataframe tbody tr th {\n",
       "        vertical-align: top;\n",
       "    }\n",
       "\n",
       "    .dataframe thead th {\n",
       "        text-align: right;\n",
       "    }\n",
       "</style>\n",
       "<table border=\"1\" class=\"dataframe\">\n",
       "  <thead>\n",
       "    <tr style=\"text-align: right;\">\n",
       "      <th></th>\n",
       "      <th>timestamps</th>\n",
       "      <th>cea</th>\n",
       "      <th>patient_id</th>\n",
       "    </tr>\n",
       "  </thead>\n",
       "  <tbody>\n",
       "    <tr>\n",
       "      <th>0</th>\n",
       "      <td>2020-08-01</td>\n",
       "      <td>0.359474</td>\n",
       "      <td>1</td>\n",
       "    </tr>\n",
       "    <tr>\n",
       "      <th>1</th>\n",
       "      <td>2020-09-01</td>\n",
       "      <td>0.485895</td>\n",
       "      <td>1</td>\n",
       "    </tr>\n",
       "    <tr>\n",
       "      <th>2</th>\n",
       "      <td>2020-10-01</td>\n",
       "      <td>0.871115</td>\n",
       "      <td>1</td>\n",
       "    </tr>\n",
       "    <tr>\n",
       "      <th>3</th>\n",
       "      <td>2020-10-31</td>\n",
       "      <td>0.871115</td>\n",
       "      <td>1</td>\n",
       "    </tr>\n",
       "    <tr>\n",
       "      <th>4</th>\n",
       "      <td>2020-12-01</td>\n",
       "      <td>1.663848</td>\n",
       "      <td>1</td>\n",
       "    </tr>\n",
       "  </tbody>\n",
       "</table>\n",
       "</div>"
      ],
      "text/plain": [
       "   timestamps       cea  patient_id\n",
       "0  2020-08-01  0.359474           1\n",
       "1  2020-09-01  0.485895           1\n",
       "2  2020-10-01  0.871115           1\n",
       "3  2020-10-31  0.871115           1\n",
       "4  2020-12-01  1.663848           1"
      ]
     },
     "execution_count": 7,
     "metadata": {},
     "output_type": "execute_result"
    }
   ],
   "source": [
    "tsdf.head()"
   ]
  },
  {
   "cell_type": "markdown",
   "metadata": {},
   "source": [
    "It has multiple timestamps for each patient, with a reading for CEA at each timestamp. The timestamps are already made evenly-spaced at 1-month intervals when we created the synthetic data, so there is no need to perform any further resampling."
   ]
  },
  {
   "cell_type": "code",
   "execution_count": 8,
   "metadata": {},
   "outputs": [
    {
     "data": {
      "text/plain": [
       "timestamps    0\n",
       "cea           0\n",
       "patient_id    0\n",
       "dtype: int64"
      ]
     },
     "execution_count": 8,
     "metadata": {},
     "output_type": "execute_result"
    }
   ],
   "source": [
    "tsdf.isnull().sum() # No missing data!"
   ]
  },
  {
   "cell_type": "code",
   "execution_count": 9,
   "metadata": {},
   "outputs": [
    {
     "data": {
      "text/plain": [
       "count    900.000000\n",
       "mean      21.073333\n",
       "std        3.056232\n",
       "min       11.000000\n",
       "25%       19.000000\n",
       "50%       21.000000\n",
       "75%       23.000000\n",
       "max       33.000000\n",
       "Name: cea, dtype: float64"
      ]
     },
     "execution_count": 9,
     "metadata": {},
     "output_type": "execute_result"
    }
   ],
   "source": [
    "# Finding number of timepoints per patient\n",
    "tsdf.groupby(\"patient_id\").count()['cea'].describe()"
   ]
  },
  {
   "cell_type": "markdown",
   "metadata": {},
   "source": [
    "We have CEA from 900 patients, the average number of timepoints per patient is 34, minimum is 10, maximum is 48."
   ]
  },
  {
   "cell_type": "markdown",
   "metadata": {},
   "source": [
    "# Preprocessing steps"
   ]
  },
  {
   "cell_type": "markdown",
   "metadata": {},
   "source": [
    "### 1. Extract time-series features\n",
    "We extract pre-defined features from time-series data using tsfresh (documentation: https://tsfresh.readthedocs.io/en/latest/)  \n",
    "This will convert our time-series into tabular features so that we can combine and feed into ML models."
   ]
  },
  {
   "cell_type": "code",
   "execution_count": 10,
   "metadata": {},
   "outputs": [
    {
     "data": {
      "text/plain": [
       "(900,)"
      ]
     },
     "execution_count": 10,
     "metadata": {},
     "output_type": "execute_result"
    }
   ],
   "source": [
    "# We need the outcomes - relapse\n",
    "Y = tabulardf[['patient_id','relapse']]\n",
    "Y.set_index('patient_id', inplace=True)\n",
    "Y = Y.T.squeeze()\n",
    "Y.shape"
   ]
  },
  {
   "cell_type": "code",
   "execution_count": 11,
   "metadata": {},
   "outputs": [
    {
     "name": "stderr",
     "output_type": "stream",
     "text": [
      "Feature Extraction: 100%|██████████| 20/20 [00:13<00:00,  1.51it/s]\n"
     ]
    },
    {
     "data": {
      "text/html": [
       "<div>\n",
       "<style scoped>\n",
       "    .dataframe tbody tr th:only-of-type {\n",
       "        vertical-align: middle;\n",
       "    }\n",
       "\n",
       "    .dataframe tbody tr th {\n",
       "        vertical-align: top;\n",
       "    }\n",
       "\n",
       "    .dataframe thead th {\n",
       "        text-align: right;\n",
       "    }\n",
       "</style>\n",
       "<table border=\"1\" class=\"dataframe\">\n",
       "  <thead>\n",
       "    <tr style=\"text-align: right;\">\n",
       "      <th>variable</th>\n",
       "      <th>cea__sum_of_reoccurring_values</th>\n",
       "      <th>cea__sum_of_reoccurring_data_points</th>\n",
       "      <th>cea__percentage_of_reoccurring_datapoints_to_all_datapoints</th>\n",
       "      <th>cea__percentage_of_reoccurring_values_to_all_values</th>\n",
       "      <th>cea__number_peaks__n_1</th>\n",
       "      <th>cea__absolute_sum_of_changes</th>\n",
       "      <th>cea__ratio_value_number_to_time_series_length</th>\n",
       "      <th>cea__has_duplicate_max</th>\n",
       "      <th>cea__change_quantiles__f_agg_\"mean\"__isabs_True__qh_1.0__ql_0.2</th>\n",
       "      <th>cea__cid_ce__normalize_False</th>\n",
       "      <th>...</th>\n",
       "      <th>cea__standard_deviation</th>\n",
       "      <th>cea__variance</th>\n",
       "      <th>cea__autocorrelation__lag_9</th>\n",
       "      <th>cea__autocorrelation__lag_8</th>\n",
       "      <th>cea__fft_coefficient__coeff_1__attr_\"abs\"</th>\n",
       "      <th>cea__last_location_of_minimum</th>\n",
       "      <th>cea__median</th>\n",
       "      <th>cea__change_quantiles__f_agg_\"var\"__isabs_True__qh_1.0__ql_0.4</th>\n",
       "      <th>cea__cwt_coefficients__widths_(2, 5, 10, 20)__coeff_12__w_10</th>\n",
       "      <th>cea__fft_coefficient__coeff_10__attr_\"abs\"</th>\n",
       "    </tr>\n",
       "    <tr>\n",
       "      <th>id</th>\n",
       "      <th></th>\n",
       "      <th></th>\n",
       "      <th></th>\n",
       "      <th></th>\n",
       "      <th></th>\n",
       "      <th></th>\n",
       "      <th></th>\n",
       "      <th></th>\n",
       "      <th></th>\n",
       "      <th></th>\n",
       "      <th></th>\n",
       "      <th></th>\n",
       "      <th></th>\n",
       "      <th></th>\n",
       "      <th></th>\n",
       "      <th></th>\n",
       "      <th></th>\n",
       "      <th></th>\n",
       "      <th></th>\n",
       "      <th></th>\n",
       "      <th></th>\n",
       "    </tr>\n",
       "  </thead>\n",
       "  <tbody>\n",
       "    <tr>\n",
       "      <th>1</th>\n",
       "      <td>3.285454</td>\n",
       "      <td>8.125446</td>\n",
       "      <td>0.333333</td>\n",
       "      <td>0.555556</td>\n",
       "      <td>2.0</td>\n",
       "      <td>5.891469</td>\n",
       "      <td>0.666667</td>\n",
       "      <td>0.0</td>\n",
       "      <td>0.370147</td>\n",
       "      <td>2.036244</td>\n",
       "      <td>...</td>\n",
       "      <td>0.658598</td>\n",
       "      <td>0.433752</td>\n",
       "      <td>-0.295799</td>\n",
       "      <td>-0.317258</td>\n",
       "      <td>4.114412</td>\n",
       "      <td>0.055556</td>\n",
       "      <td>0.824192</td>\n",
       "      <td>0.153946</td>\n",
       "      <td>3.484267</td>\n",
       "      <td>1.439908</td>\n",
       "    </tr>\n",
       "    <tr>\n",
       "      <th>2</th>\n",
       "      <td>0.000000</td>\n",
       "      <td>0.000000</td>\n",
       "      <td>0.000000</td>\n",
       "      <td>0.000000</td>\n",
       "      <td>4.0</td>\n",
       "      <td>12.040795</td>\n",
       "      <td>1.000000</td>\n",
       "      <td>0.0</td>\n",
       "      <td>0.608361</td>\n",
       "      <td>2.883933</td>\n",
       "      <td>...</td>\n",
       "      <td>1.198188</td>\n",
       "      <td>1.435653</td>\n",
       "      <td>-0.194109</td>\n",
       "      <td>-0.295287</td>\n",
       "      <td>8.445386</td>\n",
       "      <td>0.045455</td>\n",
       "      <td>2.546821</td>\n",
       "      <td>0.062995</td>\n",
       "      <td>8.646153</td>\n",
       "      <td>1.567863</td>\n",
       "    </tr>\n",
       "    <tr>\n",
       "      <th>3</th>\n",
       "      <td>0.936388</td>\n",
       "      <td>3.745552</td>\n",
       "      <td>0.050000</td>\n",
       "      <td>0.173913</td>\n",
       "      <td>7.0</td>\n",
       "      <td>9.225521</td>\n",
       "      <td>0.869565</td>\n",
       "      <td>0.0</td>\n",
       "      <td>0.416496</td>\n",
       "      <td>2.638733</td>\n",
       "      <td>...</td>\n",
       "      <td>0.712209</td>\n",
       "      <td>0.507241</td>\n",
       "      <td>-0.041358</td>\n",
       "      <td>0.159783</td>\n",
       "      <td>8.384807</td>\n",
       "      <td>0.043478</td>\n",
       "      <td>1.746618</td>\n",
       "      <td>0.126901</td>\n",
       "      <td>5.771570</td>\n",
       "      <td>1.653901</td>\n",
       "    </tr>\n",
       "    <tr>\n",
       "      <th>4</th>\n",
       "      <td>0.685743</td>\n",
       "      <td>1.371487</td>\n",
       "      <td>0.045455</td>\n",
       "      <td>0.086957</td>\n",
       "      <td>4.0</td>\n",
       "      <td>8.365532</td>\n",
       "      <td>0.956522</td>\n",
       "      <td>0.0</td>\n",
       "      <td>0.325433</td>\n",
       "      <td>2.293132</td>\n",
       "      <td>...</td>\n",
       "      <td>0.506629</td>\n",
       "      <td>0.256673</td>\n",
       "      <td>0.066441</td>\n",
       "      <td>0.188674</td>\n",
       "      <td>2.283294</td>\n",
       "      <td>0.608696</td>\n",
       "      <td>1.016937</td>\n",
       "      <td>0.079996</td>\n",
       "      <td>3.590385</td>\n",
       "      <td>0.630856</td>\n",
       "    </tr>\n",
       "    <tr>\n",
       "      <th>5</th>\n",
       "      <td>3.355766</td>\n",
       "      <td>9.463451</td>\n",
       "      <td>0.200000</td>\n",
       "      <td>0.407407</td>\n",
       "      <td>7.0</td>\n",
       "      <td>9.734441</td>\n",
       "      <td>0.740741</td>\n",
       "      <td>0.0</td>\n",
       "      <td>0.322766</td>\n",
       "      <td>2.451401</td>\n",
       "      <td>...</td>\n",
       "      <td>0.455977</td>\n",
       "      <td>0.207915</td>\n",
       "      <td>-0.012679</td>\n",
       "      <td>-0.169927</td>\n",
       "      <td>4.280970</td>\n",
       "      <td>0.037037</td>\n",
       "      <td>0.992475</td>\n",
       "      <td>0.077997</td>\n",
       "      <td>4.151160</td>\n",
       "      <td>1.133734</td>\n",
       "    </tr>\n",
       "  </tbody>\n",
       "</table>\n",
       "<p>5 rows × 102 columns</p>\n",
       "</div>"
      ],
      "text/plain": [
       "variable  cea__sum_of_reoccurring_values  cea__sum_of_reoccurring_data_points  \\\n",
       "id                                                                              \n",
       "1                               3.285454                             8.125446   \n",
       "2                               0.000000                             0.000000   \n",
       "3                               0.936388                             3.745552   \n",
       "4                               0.685743                             1.371487   \n",
       "5                               3.355766                             9.463451   \n",
       "\n",
       "variable  cea__percentage_of_reoccurring_datapoints_to_all_datapoints  \\\n",
       "id                                                                      \n",
       "1                                                  0.333333             \n",
       "2                                                  0.000000             \n",
       "3                                                  0.050000             \n",
       "4                                                  0.045455             \n",
       "5                                                  0.200000             \n",
       "\n",
       "variable  cea__percentage_of_reoccurring_values_to_all_values  \\\n",
       "id                                                              \n",
       "1                                                  0.555556     \n",
       "2                                                  0.000000     \n",
       "3                                                  0.173913     \n",
       "4                                                  0.086957     \n",
       "5                                                  0.407407     \n",
       "\n",
       "variable  cea__number_peaks__n_1  cea__absolute_sum_of_changes  \\\n",
       "id                                                               \n",
       "1                            2.0                      5.891469   \n",
       "2                            4.0                     12.040795   \n",
       "3                            7.0                      9.225521   \n",
       "4                            4.0                      8.365532   \n",
       "5                            7.0                      9.734441   \n",
       "\n",
       "variable  cea__ratio_value_number_to_time_series_length  \\\n",
       "id                                                        \n",
       "1                                              0.666667   \n",
       "2                                              1.000000   \n",
       "3                                              0.869565   \n",
       "4                                              0.956522   \n",
       "5                                              0.740741   \n",
       "\n",
       "variable  cea__has_duplicate_max  \\\n",
       "id                                 \n",
       "1                            0.0   \n",
       "2                            0.0   \n",
       "3                            0.0   \n",
       "4                            0.0   \n",
       "5                            0.0   \n",
       "\n",
       "variable  cea__change_quantiles__f_agg_\"mean\"__isabs_True__qh_1.0__ql_0.2  \\\n",
       "id                                                                          \n",
       "1                                                  0.370147                 \n",
       "2                                                  0.608361                 \n",
       "3                                                  0.416496                 \n",
       "4                                                  0.325433                 \n",
       "5                                                  0.322766                 \n",
       "\n",
       "variable  cea__cid_ce__normalize_False  ...  cea__standard_deviation  \\\n",
       "id                                      ...                            \n",
       "1                             2.036244  ...                 0.658598   \n",
       "2                             2.883933  ...                 1.198188   \n",
       "3                             2.638733  ...                 0.712209   \n",
       "4                             2.293132  ...                 0.506629   \n",
       "5                             2.451401  ...                 0.455977   \n",
       "\n",
       "variable  cea__variance  cea__autocorrelation__lag_9  \\\n",
       "id                                                     \n",
       "1              0.433752                    -0.295799   \n",
       "2              1.435653                    -0.194109   \n",
       "3              0.507241                    -0.041358   \n",
       "4              0.256673                     0.066441   \n",
       "5              0.207915                    -0.012679   \n",
       "\n",
       "variable  cea__autocorrelation__lag_8  \\\n",
       "id                                      \n",
       "1                           -0.317258   \n",
       "2                           -0.295287   \n",
       "3                            0.159783   \n",
       "4                            0.188674   \n",
       "5                           -0.169927   \n",
       "\n",
       "variable  cea__fft_coefficient__coeff_1__attr_\"abs\"  \\\n",
       "id                                                    \n",
       "1                                          4.114412   \n",
       "2                                          8.445386   \n",
       "3                                          8.384807   \n",
       "4                                          2.283294   \n",
       "5                                          4.280970   \n",
       "\n",
       "variable  cea__last_location_of_minimum  cea__median  \\\n",
       "id                                                     \n",
       "1                              0.055556     0.824192   \n",
       "2                              0.045455     2.546821   \n",
       "3                              0.043478     1.746618   \n",
       "4                              0.608696     1.016937   \n",
       "5                              0.037037     0.992475   \n",
       "\n",
       "variable  cea__change_quantiles__f_agg_\"var\"__isabs_True__qh_1.0__ql_0.4  \\\n",
       "id                                                                         \n",
       "1                                                  0.153946                \n",
       "2                                                  0.062995                \n",
       "3                                                  0.126901                \n",
       "4                                                  0.079996                \n",
       "5                                                  0.077997                \n",
       "\n",
       "variable  cea__cwt_coefficients__widths_(2, 5, 10, 20)__coeff_12__w_10  \\\n",
       "id                                                                       \n",
       "1                                                  3.484267              \n",
       "2                                                  8.646153              \n",
       "3                                                  5.771570              \n",
       "4                                                  3.590385              \n",
       "5                                                  4.151160              \n",
       "\n",
       "variable  cea__fft_coefficient__coeff_10__attr_\"abs\"  \n",
       "id                                                    \n",
       "1                                           1.439908  \n",
       "2                                           1.567863  \n",
       "3                                           1.653901  \n",
       "4                                           0.630856  \n",
       "5                                           1.133734  \n",
       "\n",
       "[5 rows x 102 columns]"
      ]
     },
     "execution_count": 11,
     "metadata": {},
     "output_type": "execute_result"
    }
   ],
   "source": [
    "# Extract using tsfresh\n",
    "ts_features = extract_relevant_features(tsdf, Y, column_id=\"patient_id\", column_sort=\"timestamps\", column_value='cea')\n",
    "ts_features.head() "
   ]
  },
  {
   "cell_type": "markdown",
   "metadata": {},
   "source": [
    "### 2. Data scaling and transformations"
   ]
  },
  {
   "cell_type": "code",
   "execution_count": 12,
   "metadata": {},
   "outputs": [],
   "source": [
    "# One-hot encode the categorical variables\n",
    "enc = OneHotEncoder(sparse=False)\n",
    "onehot_encoded = enc.fit_transform(tabulardf[categorical_features])\n",
    "# Min-max scale age_at_diagnosis\n",
    "scaler = MinMaxScaler()\n",
    "scaled_tabular = scaler.fit_transform(tabulardf[quantitative_features])\n",
    "# Min-max scale the extracted tsfeatures also\n",
    "scaler_ts = MinMaxScaler()\n",
    "scaled_ts = scaler_ts.fit_transform(ts_features)"
   ]
  },
  {
   "cell_type": "code",
   "execution_count": 13,
   "metadata": {},
   "outputs": [
    {
     "data": {
      "text/plain": [
       "((900, 131), (900,))"
      ]
     },
     "execution_count": 13,
     "metadata": {},
     "output_type": "execute_result"
    }
   ],
   "source": [
    "# Combine everything - we can just combine horizontally because tsfresh features is ordered by patient_id. If it is not, then merge according to patient_id\n",
    "X = np.hstack((onehot_encoded, scaled_tabular, scaled_ts))\n",
    "Y = np.where(Y=='yes', 1, 0) # Convert to binary class label\n",
    "X.shape, Y.shape"
   ]
  },
  {
   "cell_type": "markdown",
   "metadata": {},
   "source": [
    "# Machine learning - baselines"
   ]
  },
  {
   "cell_type": "code",
   "execution_count": 14,
   "metadata": {},
   "outputs": [],
   "source": [
    "# Import relevant ML models and helper packages\n",
    "from sklearn.linear_model import LogisticRegression\n",
    "from sklearn.svm import SVC\n",
    "from sklearn.ensemble import GradientBoostingClassifier, RandomForestClassifier\n",
    "from sklearn import metrics as metrics\n",
    "from collections import defaultdict\n",
    "from sklearn.model_selection import StratifiedKFold\n",
    "import matplotlib.pyplot as plt\n",
    "from scipy import interp, stats"
   ]
  },
  {
   "cell_type": "markdown",
   "metadata": {},
   "source": [
    "Some helper functions first, to obtain the scores for the following metrics:  \n",
    "overall accuracy  \n",
    "TPR  \n",
    "TNR  \n",
    "F1  \n",
    "AUCROC score  \n",
    "AUPRC score"
   ]
  },
  {
   "cell_type": "code",
   "execution_count": 15,
   "metadata": {},
   "outputs": [],
   "source": [
    "def scoring(model, ytrue, ypred, yprob, d):\n",
    "    #d is a defaultdict where we can append scores\n",
    "    \n",
    "    def get_class_accuracy(cm):\n",
    "        # This gets class-specific accuracies: class0 accuracy = TNR or specificity, class1 accuracy = TPR or recall/sensitivity\n",
    "        cm = cm.astype('float') / cm.sum(axis=1)[:, np.newaxis]\n",
    "        return(cm.diagonal())\n",
    "\n",
    "    accuracy = metrics.accuracy_score(ytrue, ypred)\n",
    "    f1 = metrics.f1_score(ytrue, ypred)\n",
    "    roc_auc = metrics.roc_auc_score(ytrue, yprob[:, 1])\n",
    "    roc_pr = metrics.average_precision_score(ytrue, yprob[:, 1])\n",
    "    d['overall_acc'].append(accuracy)\n",
    "    d['f1'].append(f1)\n",
    "    d['roc_auc'].append(roc_auc)\n",
    "    d['roc_pr'].append(roc_pr)\n",
    "    \n",
    "    cm = metrics.confusion_matrix(ytrue, ypred)\n",
    "    class_acc = get_class_accuracy(cm)\n",
    "    class0_acc, class1_acc = class_acc\n",
    "    d['class0_acc'].append(class0_acc)\n",
    "    d['class1_acc'].append(class1_acc)\n",
    "            \n",
    "    return d\n",
    "def get_average_score(scoredict):\n",
    "    # Get average of each score metric\n",
    "    for metric, scores in scoredict.items():\n",
    "        scores = np.array(scores)\n",
    "        avg_score = np.mean(scores)\n",
    "        std_err = stats.sem(scores)\n",
    "        print(\"Metric: %s, %.2f +/- %.3f\" %(metric, avg_score, std_err))"
   ]
  },
  {
   "cell_type": "markdown",
   "metadata": {},
   "source": [
    "This is the main function to run the models. It performs n initialisations of each model (n=20), and for each model performs stratified kfold (k=5) cross-validation.  \n",
    "It then calculates evaluation metrics and plots out AUROC for each test split."
   ]
  },
  {
   "cell_type": "code",
   "execution_count": 35,
   "metadata": {},
   "outputs": [],
   "source": [
    "def run_model(clf, seeds, X, Y, filename=0, plot=1):\n",
    "    scores = defaultdict(list)\n",
    "    \n",
    "    tprs = []\n",
    "    base_fpr = np.linspace(0, 1, 101)\n",
    "    \n",
    "    if plot:\n",
    "        plt.figure(figsize=(8, 8))\n",
    "\n",
    "    for seed in seeds:\n",
    "        # We use StratifiedKFold to give us the random split instead. \n",
    "        skf = StratifiedKFold(n_splits=5, random_state=seed, shuffle=True)\n",
    "        for train_index, test_index in skf.split(X, Y):\n",
    "\n",
    "            X_train, X_test = X[train_index], X[test_index]\n",
    "            y_train, y_test = Y[train_index], Y[test_index]\n",
    "\n",
    "            clf.fit(X_train, y_train)\n",
    "            y_pred = clf.predict(X_test)\n",
    "            yprob = clf.predict_proba(X_test) #probability estimates\n",
    "\n",
    "            # Get metrics\n",
    "            scores = scoring(clf, y_test, y_pred, yprob, scores)\n",
    "\n",
    "            # Plot ROC curves\n",
    "            fpr, tpr, _ = metrics.roc_curve(y_test, yprob[:, 1])\n",
    "            \n",
    "            if plot:\n",
    "                plt.plot(fpr, tpr, 'b', alpha=0.1)\n",
    "            tpr = interp(base_fpr, fpr, tpr)\n",
    "            tpr[0] = 0.0\n",
    "            tprs.append(tpr)\n",
    "    tprs = np.array(tprs)\n",
    "    mean_tprs = tprs.mean(axis=0)\n",
    "    std = tprs.std(axis=0)\n",
    "\n",
    "    tprs_upper = np.minimum(mean_tprs + std, 1)\n",
    "    tprs_lower = mean_tprs - std\n",
    "    \n",
    "    if plot:\n",
    "        plt.plot(base_fpr, mean_tprs, 'b')\n",
    "        plt.fill_between(base_fpr, tprs_lower, tprs_upper, color='grey', alpha=0.5)\n",
    "\n",
    "        plt.plot([0, 1], [0, 1],'r--')\n",
    "        plt.xlim([-0.01, 1.01])\n",
    "        plt.ylim([-0.01, 1.01])\n",
    "        plt.ylabel('True Positive Rate')\n",
    "        plt.xlabel('False Positive Rate')\n",
    "        plt.axes().set_aspect('equal', 'datalim')\n",
    "    # Save file if filename is provided\n",
    "    if filename:\n",
    "        plt.savefig(filename)\n",
    "        \n",
    "    return scores"
   ]
  },
  {
   "cell_type": "code",
   "execution_count": 37,
   "metadata": {},
   "outputs": [
    {
     "name": "stderr",
     "output_type": "stream",
     "text": [
      "/home/dlho/Software/miniconda3/envs/ml/lib/python3.7/site-packages/ipykernel_launcher.py:49: MatplotlibDeprecationWarning: Adding an axes using the same arguments as a previous axes currently reuses the earlier instance.  In a future version, a new instance will always be created and returned.  Meanwhile, this warning can be suppressed, and the future behavior ensured, by passing a unique label to each axes instance.\n"
     ]
    },
    {
     "data": {
      "image/png": "[encoded data removed]",
      "text/plain": [
       "<Figure size 576x576 with 1 Axes>"
      ]
     },
     "metadata": {
      "needs_background": "light"
     },
     "output_type": "display_data"
    }
   ],
   "source": [
    "model_num = [i for i in range(5, 105, 5)] # 20 models are initialised\n",
    "lr = LogisticRegression(random_state=100, class_weight='balanced', solver='liblinear')\n",
    "lrscores = run_model(lr, model_num, X, Y)"
   ]
  },
  {
   "cell_type": "code",
   "execution_count": 38,
   "metadata": {},
   "outputs": [
    {
     "name": "stdout",
     "output_type": "stream",
     "text": [
      "Metric: overall_acc, 0.81 +/- 0.003\n",
      "Metric: f1, 0.67 +/- 0.005\n",
      "Metric: roc_auc, 0.88 +/- 0.003\n",
      "Metric: roc_pr, 0.78 +/- 0.004\n",
      "Metric: class0_acc, 0.84 +/- 0.003\n",
      "Metric: class1_acc, 0.75 +/- 0.006\n"
     ]
    }
   ],
   "source": [
    "# Scores of 100 runs\n",
    "get_average_score(lrscores)"
   ]
  },
  {
   "cell_type": "code",
   "execution_count": 19,
   "metadata": {},
   "outputs": [
    {
     "name": "stderr",
     "output_type": "stream",
     "text": [
      "/home/dlho/Software/miniconda3/envs/ml/lib/python3.7/site-packages/ipykernel_launcher.py:46: MatplotlibDeprecationWarning: Adding an axes using the same arguments as a previous axes currently reuses the earlier instance.  In a future version, a new instance will always be created and returned.  Meanwhile, this warning can be suppressed, and the future behavior ensured, by passing a unique label to each axes instance.\n"
     ]
    },
    {
     "data": {
      "image/png": "[encoded data removed]",
      "text/plain": [
       "<Figure size 576x576 with 1 Axes>"
      ]
     },
     "metadata": {
      "needs_background": "light"
     },
     "output_type": "display_data"
    }
   ],
   "source": [
    "svm = SVC(kernel='rbf', random_state=100, gamma = 'scale', class_weight='balanced', probability=True)\n",
    "svmscores= run_model(svm, model_num, X, Y)"
   ]
  },
  {
   "cell_type": "code",
   "execution_count": 20,
   "metadata": {},
   "outputs": [
    {
     "name": "stdout",
     "output_type": "stream",
     "text": [
      "Metric: overall_acc, 0.80 +/- 0.003\n",
      "Metric: f1, 0.64 +/- 0.005\n",
      "Metric: roc_auc, 0.85 +/- 0.003\n",
      "Metric: roc_pr, 0.71 +/- 0.005\n",
      "Metric: class0_acc, 0.84 +/- 0.003\n",
      "Metric: class1_acc, 0.69 +/- 0.007\n"
     ]
    }
   ],
   "source": [
    "get_average_score(svmscores)"
   ]
  },
  {
   "cell_type": "code",
   "execution_count": 21,
   "metadata": {},
   "outputs": [
    {
     "name": "stderr",
     "output_type": "stream",
     "text": [
      "/home/dlho/Software/miniconda3/envs/ml/lib/python3.7/site-packages/ipykernel_launcher.py:46: MatplotlibDeprecationWarning: Adding an axes using the same arguments as a previous axes currently reuses the earlier instance.  In a future version, a new instance will always be created and returned.  Meanwhile, this warning can be suppressed, and the future behavior ensured, by passing a unique label to each axes instance.\n"
     ]
    },
    {
     "data": {
      "image/png": "[encoded data removed]",
      "text/plain": [
       "<Figure size 576x576 with 1 Axes>"
      ]
     },
     "metadata": {
      "needs_background": "light"
     },
     "output_type": "display_data"
    }
   ],
   "source": [
    "gb = GradientBoostingClassifier(random_state=100)\n",
    "gbscores= run_model(gb, model_num, X, Y)"
   ]
  },
  {
   "cell_type": "code",
   "execution_count": 22,
   "metadata": {},
   "outputs": [
    {
     "name": "stdout",
     "output_type": "stream",
     "text": [
      "Metric: overall_acc, 0.85 +/- 0.002\n",
      "Metric: f1, 0.67 +/- 0.005\n",
      "Metric: roc_auc, 0.87 +/- 0.003\n",
      "Metric: roc_pr, 0.79 +/- 0.004\n",
      "Metric: class0_acc, 0.95 +/- 0.002\n",
      "Metric: class1_acc, 0.59 +/- 0.007\n"
     ]
    }
   ],
   "source": [
    "get_average_score(gbscores)"
   ]
  },
  {
   "cell_type": "code",
   "execution_count": 23,
   "metadata": {},
   "outputs": [
    {
     "name": "stderr",
     "output_type": "stream",
     "text": [
      "/home/dlho/Software/miniconda3/envs/ml/lib/python3.7/site-packages/sklearn/ensemble/forest.py:245: FutureWarning: The default value of n_estimators will change from 10 in version 0.20 to 100 in 0.22.\n",
      "  \"10 in version 0.20 to 100 in 0.22.\", FutureWarning)\n",
      "/home/dlho/Software/miniconda3/envs/ml/lib/python3.7/site-packages/ipykernel_launcher.py:46: MatplotlibDeprecationWarning: Adding an axes using the same arguments as a previous axes currently reuses the earlier instance.  In a future version, a new instance will always be created and returned.  Meanwhile, this warning can be suppressed, and the future behavior ensured, by passing a unique label to each axes instance.\n"
     ]
    },
    {
     "data": {
      "image/png": "[encoded data removed]",
      "text/plain": [
       "<Figure size 576x576 with 1 Axes>"
      ]
     },
     "metadata": {
      "needs_background": "light"
     },
     "output_type": "display_data"
    }
   ],
   "source": [
    "rf = RandomForestClassifier(random_state=100, class_weight='balanced')\n",
    "rfscores= run_model(rf, model_num, X, Y)"
   ]
  },
  {
   "cell_type": "code",
   "execution_count": 24,
   "metadata": {},
   "outputs": [
    {
     "name": "stdout",
     "output_type": "stream",
     "text": [
      "Metric: overall_acc, 0.83 +/- 0.002\n",
      "Metric: f1, 0.57 +/- 0.007\n",
      "Metric: roc_auc, 0.83 +/- 0.003\n",
      "Metric: roc_pr, 0.68 +/- 0.005\n",
      "Metric: class0_acc, 0.96 +/- 0.002\n",
      "Metric: class1_acc, 0.45 +/- 0.008\n"
     ]
    }
   ],
   "source": [
    "get_average_score(rfscores)"
   ]
  },
  {
   "cell_type": "markdown",
   "metadata": {},
   "source": [
    "Baseline models isn't that great. You can tell that the models, especially the more complex ones, are not learning very well - they are generally overfitting to the majority class, even though we have already weighted the classes for most of our classifiers.  \n",
    "Simple classifiers LR and SVM suffer less from the problem of overfitting.  \n",
    "Overfitting can be combated by tuning the classifiers using GridSearch (such as https://scikit-learn.org/stable/auto_examples/model_selection/plot_grid_search_digits.html) or adaptive search with HyperOpt (http://hyperopt.github.io/hyperopt/). As our paper did not explore classifier tuning but embarked on the methods below instead for tackling imbalanced learning, we do not go through them but encourage the reader to explore these options."
   ]
  },
  {
   "cell_type": "markdown",
   "metadata": {},
   "source": [
    "# Machine Learning - Feature Selection"
   ]
  },
  {
   "cell_type": "markdown",
   "metadata": {},
   "source": [
    "This is one way we can make the models learn better by reducing the dataset dimensionality and selecting for only most relevant features. We will select features that are most predictive for recurrence using mutual information.  \n",
    "We demonstrate this on LR, our best classifier on this synthetic dataset."
   ]
  },
  {
   "cell_type": "code",
   "execution_count": 39,
   "metadata": {},
   "outputs": [],
   "source": [
    "# Import relevant libraries\n",
    "from sklearn.feature_selection import SelectKBest\n",
    "from sklearn.feature_selection import mutual_info_classif\n",
    "from functools import partial"
   ]
  },
  {
   "cell_type": "code",
   "execution_count": 40,
   "metadata": {},
   "outputs": [],
   "source": [
    "# Helper functions\n",
    "def select_features(X, Y, num_feats):\n",
    "    # This function selects the best features using the MI estimator\n",
    "    return SelectKBest(partial(mutual_info_classif, random_state=100), k=num_feats).fit_transform(X, Y)\n",
    "def get_best_score(scoredict, metric='roc_auc'):\n",
    "    num_feats = []\n",
    "    avg_scores = []\n",
    "    for num_feat, scores in scoredict.items():\n",
    "        avg_score = np.array(scores[metric]).mean()\n",
    "        std_dev = np.array(scores[metric]).std()\n",
    "        avg_scores.append(avg_score)\n",
    "        num_feats.append(num_feat)\n",
    "    max_avg_score_pos = avg_scores.index(max(avg_scores))\n",
    "    best_feature_num = num_feats[max_avg_score_pos]\n",
    "    print(\"Best number of features is %s with %s score of %s\" %(best_feature_num, metric, max(avg_scores)))\n",
    "    return best_feature_num"
   ]
  },
  {
   "cell_type": "code",
   "execution_count": 41,
   "metadata": {},
   "outputs": [
    {
     "name": "stdout",
     "output_type": "stream",
     "text": [
      "Best number of features is 30 with roc_auc score of 0.8958917314306934\n"
     ]
    }
   ],
   "source": [
    "num_features = [i for i in range(10, 131, 10)]\n",
    "scoredictlr = {}\n",
    "for num_feat in num_features:\n",
    "    X_selected = select_features(X, Y, num_feat)\n",
    "    lr = LogisticRegression(random_state=100, class_weight='balanced', solver='liblinear', max_iter=1000)\n",
    "    lrscores= run_model(lr, model_num, X_selected, Y, plot=0)\n",
    "    scoredictlr[num_feat] = lrscores\n",
    "best_feature_num = get_best_score(scoredictlr)"
   ]
  },
  {
   "cell_type": "code",
   "execution_count": 42,
   "metadata": {},
   "outputs": [
    {
     "name": "stdout",
     "output_type": "stream",
     "text": [
      "Metric: overall_acc, 0.84 +/- 0.003\n",
      "Metric: f1, 0.71 +/- 0.004\n",
      "Metric: roc_auc, 0.90 +/- 0.003\n",
      "Metric: roc_pr, 0.81 +/- 0.004\n",
      "Metric: class0_acc, 0.86 +/- 0.003\n",
      "Metric: class1_acc, 0.77 +/- 0.005\n"
     ]
    }
   ],
   "source": [
    "get_average_score(scoredictlr[best_feature_num])"
   ]
  },
  {
   "cell_type": "markdown",
   "metadata": {},
   "source": [
    "Feature selection helps a lot, as we have shown in our paper. All metrics have improved over the baseline LR model!"
   ]
  },
  {
   "cell_type": "markdown",
   "metadata": {},
   "source": [
    "# Machine Learning - Sampling techniques"
   ]
  },
  {
   "cell_type": "markdown",
   "metadata": {},
   "source": [
    "We will use the package imbalanced-learn (documentation: https://imbalanced-learn.org/stable/) to perform under and over-sampling, and demonstrate its effects on LR, our best model so far"
   ]
  },
  {
   "cell_type": "code",
   "execution_count": 43,
   "metadata": {},
   "outputs": [
    {
     "name": "stderr",
     "output_type": "stream",
     "text": [
      "Using TensorFlow backend.\n"
     ]
    }
   ],
   "source": [
    "# Import relevant packages\n",
    "from imblearn.under_sampling import TomekLinks\n",
    "from imblearn.combine import SMOTETomek\n",
    "tl = TomekLinks(return_indices=True)\n",
    "smt = SMOTETomek(random_state=100)"
   ]
  },
  {
   "cell_type": "code",
   "execution_count": 45,
   "metadata": {},
   "outputs": [],
   "source": [
    "# Change our run_model function to incorporate under and over-sampling\n",
    "def run_model(clf, seeds, X, Y, filename=0, plot=1, sampling=0):\n",
    "    scores = defaultdict(list)\n",
    "    \n",
    "    tprs = []\n",
    "    base_fpr = np.linspace(0, 1, 101)\n",
    "    \n",
    "    if plot:\n",
    "        plt.figure(figsize=(8, 8))\n",
    "\n",
    "    for seed in seeds:\n",
    "        # We use StratifiedKFold to give us the random split instead. \n",
    "        skf = StratifiedKFold(n_splits=5, random_state=seed, shuffle=True)\n",
    "        for train_index, test_index in skf.split(X, Y):\n",
    "\n",
    "            X_train, X_test = X[train_index], X[test_index]\n",
    "            y_train, y_test = Y[train_index], Y[test_index]\n",
    "            \n",
    "            if sampling=='tomek':\n",
    "                X_train, y_train, idx_undersamp = tl.fit_sample(X_train, y_train)\n",
    "            elif sampling=='smotetomek':\n",
    "                X_train, y_train = smt.fit_resample(X_train, y_train)\n",
    "            else:\n",
    "                pass\n",
    "\n",
    "            clf.fit(X_train, y_train)\n",
    "            y_pred = clf.predict(X_test)\n",
    "            yprob = clf.predict_proba(X_test) #probability estimates\n",
    "\n",
    "            # Get metrics\n",
    "            scores = scoring(clf, y_test, y_pred, yprob, scores)\n",
    "\n",
    "            # Plot ROC curves\n",
    "            fpr, tpr, _ = metrics.roc_curve(y_test, yprob[:, 1])\n",
    "            \n",
    "            if plot:\n",
    "                plt.plot(fpr, tpr, 'b', alpha=0.1)\n",
    "            tpr = interp(base_fpr, fpr, tpr)\n",
    "            tpr[0] = 0.0\n",
    "            tprs.append(tpr)\n",
    "    tprs = np.array(tprs)\n",
    "    mean_tprs = tprs.mean(axis=0)\n",
    "    std = tprs.std(axis=0)\n",
    "\n",
    "    tprs_upper = np.minimum(mean_tprs + std, 1)\n",
    "    tprs_lower = mean_tprs - std\n",
    "    \n",
    "    if plot:\n",
    "        plt.plot(base_fpr, mean_tprs, 'b')\n",
    "        plt.fill_between(base_fpr, tprs_lower, tprs_upper, color='grey', alpha=0.5)\n",
    "\n",
    "        plt.plot([0, 1], [0, 1],'r--')\n",
    "        plt.xlim([-0.01, 1.01])\n",
    "        plt.ylim([-0.01, 1.01])\n",
    "        plt.ylabel('True Positive Rate')\n",
    "        plt.xlabel('False Positive Rate')\n",
    "        plt.axes().set_aspect('equal', 'datalim')\n",
    "    # Save file if filename is provided\n",
    "    if filename:\n",
    "        plt.savefig(filename)\n",
    "        \n",
    "    return scores"
   ]
  },
  {
   "cell_type": "markdown",
   "metadata": {},
   "source": [
    "### Tomek only"
   ]
  },
  {
   "cell_type": "code",
   "execution_count": 53,
   "metadata": {},
   "outputs": [],
   "source": [
    "lr = LogisticRegression(random_state=100, class_weight='balanced', solver='liblinear', max_iter=1000)\n",
    "lrscores= run_model(lr, model_num, X, Y, plot=0, sampling='tomek')"
   ]
  },
  {
   "cell_type": "code",
   "execution_count": 54,
   "metadata": {},
   "outputs": [
    {
     "name": "stdout",
     "output_type": "stream",
     "text": [
      "Metric: overall_acc, 0.81 +/- 0.003\n",
      "Metric: f1, 0.67 +/- 0.004\n",
      "Metric: roc_auc, 0.88 +/- 0.003\n",
      "Metric: roc_pr, 0.77 +/- 0.005\n",
      "Metric: class0_acc, 0.82 +/- 0.004\n",
      "Metric: class1_acc, 0.76 +/- 0.006\n"
     ]
    }
   ],
   "source": [
    "get_average_score(lrscores)"
   ]
  },
  {
   "cell_type": "markdown",
   "metadata": {},
   "source": [
    "### Tomek + SMOTE"
   ]
  },
  {
   "cell_type": "code",
   "execution_count": 55,
   "metadata": {},
   "outputs": [],
   "source": [
    "lr = LogisticRegression(random_state=100, class_weight='balanced', solver='liblinear', max_iter=1000)\n",
    "lrscores= run_model(lr, model_num, X, Y, plot=0, sampling='smotetomek')"
   ]
  },
  {
   "cell_type": "code",
   "execution_count": 56,
   "metadata": {},
   "outputs": [
    {
     "name": "stdout",
     "output_type": "stream",
     "text": [
      "Metric: overall_acc, 0.82 +/- 0.003\n",
      "Metric: f1, 0.67 +/- 0.005\n",
      "Metric: roc_auc, 0.88 +/- 0.003\n",
      "Metric: roc_pr, 0.78 +/- 0.004\n",
      "Metric: class0_acc, 0.85 +/- 0.004\n",
      "Metric: class1_acc, 0.73 +/- 0.006\n"
     ]
    }
   ],
   "source": [
    "get_average_score(lrscores)"
   ]
  },
  {
   "cell_type": "markdown",
   "metadata": {},
   "source": [
    "### Feature selection + Tomek undersampling"
   ]
  },
  {
   "cell_type": "code",
   "execution_count": 49,
   "metadata": {},
   "outputs": [],
   "source": [
    "X_selected = select_features(X, Y, best_feature_num)\n",
    "lr = LogisticRegression(random_state=100, class_weight='balanced', solver='liblinear', max_iter=1000)\n",
    "lrscores= run_model(lr, model_num, X_selected, Y, plot=0, sampling='tomek')"
   ]
  },
  {
   "cell_type": "code",
   "execution_count": 50,
   "metadata": {},
   "outputs": [
    {
     "name": "stdout",
     "output_type": "stream",
     "text": [
      "Metric: overall_acc, 0.83 +/- 0.003\n",
      "Metric: f1, 0.70 +/- 0.004\n",
      "Metric: roc_auc, 0.89 +/- 0.003\n",
      "Metric: roc_pr, 0.81 +/- 0.004\n",
      "Metric: class0_acc, 0.84 +/- 0.003\n",
      "Metric: class1_acc, 0.78 +/- 0.006\n"
     ]
    }
   ],
   "source": [
    "get_average_score(lrscores)"
   ]
  },
  {
   "cell_type": "markdown",
   "metadata": {},
   "source": [
    "### Feature selection + Tomek + SMOTE"
   ]
  },
  {
   "cell_type": "code",
   "execution_count": 51,
   "metadata": {},
   "outputs": [],
   "source": [
    "X_selected = select_features(X, Y, best_feature_num)\n",
    "lr = LogisticRegression(random_state=100, class_weight='balanced', solver='liblinear', max_iter=1000)\n",
    "lrscores= run_model(lr, model_num, X_selected, Y, plot=0, sampling='smotetomek')"
   ]
  },
  {
   "cell_type": "code",
   "execution_count": 52,
   "metadata": {},
   "outputs": [
    {
     "name": "stdout",
     "output_type": "stream",
     "text": [
      "Metric: overall_acc, 0.83 +/- 0.002\n",
      "Metric: f1, 0.70 +/- 0.004\n",
      "Metric: roc_auc, 0.90 +/- 0.003\n",
      "Metric: roc_pr, 0.82 +/- 0.004\n",
      "Metric: class0_acc, 0.86 +/- 0.003\n",
      "Metric: class1_acc, 0.76 +/- 0.006\n"
     ]
    }
   ],
   "source": [
    "get_average_score(lrscores)"
   ]
  },
  {
   "cell_type": "markdown",
   "metadata": {},
   "source": [
    "Similar to our paper, we find that under and over-sampling techniques doesn't help us much for our dataset. The scores are roughly the same for Tomek, and regressed slightly when SMOTE is added, for simple classifiers such as LR."
   ]
  },
  {
   "cell_type": "code",
   "execution_count": null,
   "metadata": {},
   "outputs": [],
   "source": []
  }
 ],
 "metadata": {
  "kernelspec": {
   "display_name": "Python [conda env:ml] *",
   "language": "python",
   "name": "conda-env-ml-py"
  },
  "language_info": {
   "codemirror_mode": {
    "name": "ipython",
    "version": 3
   },
   "file_extension": ".py",
   "mimetype": "text/x-python",
   "name": "python",
   "nbconvert_exporter": "python",
   "pygments_lexer": "ipython3",
   "version": "3.7.3"
  }
 },
 "nbformat": 4,
 "nbformat_minor": 4
}
